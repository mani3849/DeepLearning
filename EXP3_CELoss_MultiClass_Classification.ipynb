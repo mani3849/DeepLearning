{
  "nbformat": 4,
  "nbformat_minor": 0,
  "metadata": {
    "colab": {
      "provenance": []
    },
    "kernelspec": {
      "name": "python3",
      "display_name": "Python 3"
    },
    "language_info": {
      "name": "python"
    }
  },
  "cells": [
    {
      "cell_type": "code",
      "execution_count": 37,
      "metadata": {
        "id": "P-NWYUn3B2l7"
      },
      "outputs": [],
      "source": [
        "import numpy as np\n",
        "\n",
        "# Ground truth labels (one-hot encoded)\n",
        "y_true = np.array([\n",
        "    [1, 0, 0, 0, 0],   # Sample 1: Class 1\n",
        "    [0, 1, 0, 0, 0],   # Sample 2: Class 2\n",
        "    [0, 0, 1, 0, 0],   # Sample 3: Class 3\n",
        "    [0, 0, 0, 1, 0],   # Sample 4: Class 4\n",
        "    [0, 0, 0, 0, 1],   # Sample 5: Class 5\n",
        "    ])"
      ]
    },
    {
      "cell_type": "code",
      "source": [
        "# Model predictions (logits)\n",
        "logits = np.array([\n",
        "    [2.0, 1.0, 0.1, 0.5, 2],  # Sample 1\n",
        "    [0.5, 2.5, 0.2, 3, 5],  # Sample 2\n",
        "    [0.1, 0.2, 3.0, 8, 2],  # Sample 3\n",
        "    [3.0, 2.0, 0.6, 0.3, 0.5],  # Sample 4\n",
        "    [4.5, 3.5, 0.3, 9, 2]  # Sample 5\n",
        "])"
      ],
      "metadata": {
        "id": "s7rp17_XIRnw"
      },
      "execution_count": 38,
      "outputs": []
    },
    {
      "cell_type": "code",
      "source": [
        "# Softmax function\n",
        "def softmax(x):\n",
        "    exp_x = np.exp(x - np.max(x, axis=-1, keepdims=True))  # Numerical stability\n",
        "    return exp_x / np.sum(exp_x, axis=-1, keepdims=True)"
      ],
      "metadata": {
        "id": "og5XFx_cIPiI"
      },
      "execution_count": 39,
      "outputs": []
    },
    {
      "cell_type": "code",
      "source": [
        "# Compute softmax probabilities\n",
        "probs = softmax(logits)\n",
        "print(\"Softmax Probabilities:\\n\", probs)"
      ],
      "metadata": {
        "colab": {
          "base_uri": "https://localhost:8080/"
        },
        "id": "xy5apM2RINjh",
        "outputId": "3d39202b-70f3-4628-f33d-01a39caac6f9"
      },
      "execution_count": 40,
      "outputs": [
        {
          "output_type": "stream",
          "name": "stdout",
          "text": [
            "Softmax Probabilities:\n",
            " [[3.64886502e-01 1.34234242e-01 5.45755703e-02 8.14171836e-02\n",
            "  3.64886502e-01]\n",
            " [8.98234523e-03 6.63710528e-02 6.65428501e-03 1.09427367e-01\n",
            "  8.08564950e-01]\n",
            " [3.67073838e-04 4.05679331e-04 6.67125329e-03 9.90101777e-01\n",
            "  2.45421693e-03]\n",
            " [6.21933902e-01 2.28796696e-01 5.64205707e-02 4.17973868e-02\n",
            "  5.10514435e-02]\n",
            " [1.09311012e-02 4.02132741e-03 1.63918168e-04 9.83986374e-01\n",
            "  8.97279429e-04]]\n"
          ]
        }
      ]
    },
    {
      "cell_type": "code",
      "source": [
        "# Compute log(probs)\n",
        "log_probs = np.log(probs)\n",
        "print(\"\\nLog of Softmax Probabilities:\\n\", log_probs)"
      ],
      "metadata": {
        "colab": {
          "base_uri": "https://localhost:8080/"
        },
        "id": "YRRayHqDILse",
        "outputId": "a5ea2a4d-b425-455c-8fb3-02c1cdc5ba50"
      },
      "execution_count": 41,
      "outputs": [
        {
          "output_type": "stream",
          "name": "stdout",
          "text": [
            "\n",
            "Log of Softmax Probabilities:\n",
            " [[-1.00816893 -2.00816893 -2.90816893 -2.50816893 -1.00816893]\n",
            " [-4.71249427 -2.71249427 -5.01249427 -2.21249427 -0.21249427]\n",
            " [-7.90994754 -7.80994754 -5.00994754 -0.00994754 -6.00994754]\n",
            " [-0.47492146 -1.47492146 -2.87492146 -3.17492146 -2.97492146]\n",
            " [-4.51614323 -5.51614323 -8.71614323 -0.01614323 -7.01614323]]\n"
          ]
        }
      ]
    },
    {
      "cell_type": "code",
      "source": [
        "# Compute y_true * log(probs)\n",
        "y_true_log_probs = y_true * log_probs\n",
        "print(\"\\ny_true * log(probs):\\n\", y_true_log_probs)"
      ],
      "metadata": {
        "colab": {
          "base_uri": "https://localhost:8080/"
        },
        "id": "n3duSWElH_iY",
        "outputId": "d9c100fa-ca59-457d-9245-741010e4e62a"
      },
      "execution_count": 42,
      "outputs": [
        {
          "output_type": "stream",
          "name": "stdout",
          "text": [
            "\n",
            "y_true * log(probs):\n",
            " [[-1.00816893 -0.         -0.         -0.         -0.        ]\n",
            " [-0.         -2.71249427 -0.         -0.         -0.        ]\n",
            " [-0.         -0.         -5.00994754 -0.         -0.        ]\n",
            " [-0.         -0.         -0.         -3.17492146 -0.        ]\n",
            " [-0.         -0.         -0.         -0.         -7.01614323]]\n"
          ]
        }
      ]
    },
    {
      "cell_type": "code",
      "source": [
        "# Compute CE loss for each sample\n",
        "ce_loss = -np.sum(y_true_log_probs, axis=-1)\n",
        "print(\"\\nCE Loss per Sample:\", ce_loss)"
      ],
      "metadata": {
        "colab": {
          "base_uri": "https://localhost:8080/"
        },
        "id": "D5jji25iH93A",
        "outputId": "79194145-d94d-415a-e6e0-1939e6eaea0d"
      },
      "execution_count": 43,
      "outputs": [
        {
          "output_type": "stream",
          "name": "stdout",
          "text": [
            "\n",
            "CE Loss per Sample: [1.00816893 2.71249427 5.00994754 3.17492146 7.01614323]\n"
          ]
        }
      ]
    },
    {
      "cell_type": "code",
      "source": [
        "# Average CE loss for the dataset\n",
        "avg_ce_loss = np.mean(ce_loss)\n",
        "print(\"\\nAverage CE Loss for the Dataset:\", avg_ce_loss)"
      ],
      "metadata": {
        "colab": {
          "base_uri": "https://localhost:8080/"
        },
        "id": "D9KA-23YH8Zp",
        "outputId": "70e58762-3575-48c2-beb6-245e89b9c77f"
      },
      "execution_count": 44,
      "outputs": [
        {
          "output_type": "stream",
          "name": "stdout",
          "text": [
            "\n",
            "Average CE Loss for the Dataset: 3.7843350841333083\n"
          ]
        }
      ]
    }
  ]
}