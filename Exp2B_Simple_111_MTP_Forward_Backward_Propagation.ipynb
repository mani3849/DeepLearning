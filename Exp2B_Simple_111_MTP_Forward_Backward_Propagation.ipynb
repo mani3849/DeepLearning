{
  "nbformat": 4,
  "nbformat_minor": 0,
  "metadata": {
    "colab": {
      "provenance": []
    },
    "kernelspec": {
      "name": "python3",
      "display_name": "Python 3"
    },
    "language_info": {
      "name": "python"
    }
  },
  "cells": [
    {
      "cell_type": "code",
      "execution_count": 5,
      "metadata": {
        "colab": {
          "base_uri": "https://localhost:8080/"
        },
        "id": "K9tNn_Y5Dj6A",
        "outputId": "ba8ba163-432e-417a-cdc7-d878226808c6"
      },
      "outputs": [
        {
          "output_type": "stream",
          "name": "stdout",
          "text": [
            "\n",
            "Epoch 1:\n",
            "\n",
            "Epoch 2:\n"
          ]
        }
      ],
      "source": [
        "import numpy as np\n",
        "import matplotlib.pyplot as plt\n",
        "\n",
        "# Given values\n",
        "A1 = np.array([[0.10]])\n",
        "W2 = np.array([[0.20]])\n",
        "W3 = np.array([[0.30]])\n",
        "b2 = np.array([[0.0]])\n",
        "b3 = np.array([[0.0]])\n",
        "\n",
        "R = np.array([[0.01]])\n",
        "\n",
        "# Learning rate\n",
        "alpha = 0.5\n",
        "\n",
        "# Sigmoid activation function and its derivative\n",
        "def sigmoid(x):\n",
        "    return 1 / (1 + np.exp(-x))\n",
        "\n",
        "def sigmoid_derivative(x):\n",
        "    return sigmoid(x) * (1 - sigmoid(x))\n",
        "\n",
        "# Number of epochs\n",
        "epochs = 2\n",
        "\n",
        "# Initialize an array to store total errors\n",
        "errors = np.zeros(epochs)\n",
        "\n",
        "# Loop through epochs\n",
        "for epoch in range(epochs):\n",
        "    print(f\"\\nEpoch {epoch + 1}:\")"
      ]
    },
    {
      "cell_type": "code",
      "source": [
        "    # Forward pass calculations\n",
        "    Z2 = np.dot(W2, A1) + b2\n",
        "    A2 = sigmoid(Z2)\n",
        "\n",
        "    Z3 = np.dot(W3, A2) + b3\n",
        "    A3 = sigmoid(Z3)"
      ],
      "metadata": {
        "id": "xT0yNBQgEYbU"
      },
      "execution_count": 6,
      "outputs": []
    },
    {
      "cell_type": "code",
      "source": [
        "    # Print forward pass values\n",
        "    print(f\"Z2: {Z2}\")\n",
        "    print(f\"A2: {A2}\")\n",
        "    print(f\"Z3: {Z3}\")\n",
        "    print(f\"A3: {A3}\")\n",
        "    print(f\"W2: {W2}\")\n",
        "    print(f\"W3: {W3}\")\n",
        "    print(f\"b2: {b2}\")\n",
        "    print(f\"b3: {b3}\")"
      ],
      "metadata": {
        "colab": {
          "base_uri": "https://localhost:8080/"
        },
        "id": "2haz7XYgEUA9",
        "outputId": "34bcd90e-c1ba-42bb-a793-b3b0669228a8"
      },
      "execution_count": 7,
      "outputs": [
        {
          "output_type": "stream",
          "name": "stdout",
          "text": [
            "Z2: [[0.02]]\n",
            "A2: [[0.50499983]]\n",
            "Z3: [[0.15149995]]\n",
            "A3: [[0.53780271]]\n",
            "W2: [[0.2]]\n",
            "W3: [[0.3]]\n",
            "b2: [[0.]]\n",
            "b3: [[0.]]\n"
          ]
        }
      ]
    },
    {
      "cell_type": "code",
      "source": [
        "    # Calculate Deltas\n",
        "    D3 = (A3 - R) * sigmoid_derivative(Z3)\n",
        "    D2 = np.dot(W3.T, D3) * sigmoid_derivative(Z2)"
      ],
      "metadata": {
        "id": "apf5V6k0EQ3l"
      },
      "execution_count": 8,
      "outputs": []
    },
    {
      "cell_type": "code",
      "source": [
        "    # Print deltas\n",
        "    print(f\"D3: {D3}\")\n",
        "    print(f\"D2: {D2}\")"
      ],
      "metadata": {
        "colab": {
          "base_uri": "https://localhost:8080/"
        },
        "id": "gs5GzntUEO8G",
        "outputId": "7924a95f-cb2b-4df3-c19b-2880af6aeb50"
      },
      "execution_count": 9,
      "outputs": [
        {
          "output_type": "stream",
          "name": "stdout",
          "text": [
            "D3: [[0.13119642]]\n",
            "D2: [[0.00983875]]\n"
          ]
        }
      ]
    },
    {
      "cell_type": "code",
      "source": [
        "    # Calculate gradients\n",
        "    grad_W3 = np.dot(D3, A2.T)\n",
        "    grad_b3 = D3\n",
        "    grad_W2 = np.dot(D2, A1.T)\n",
        "    grad_b2 = D2"
      ],
      "metadata": {
        "id": "wmykfR2sEMYn"
      },
      "execution_count": 10,
      "outputs": []
    },
    {
      "cell_type": "code",
      "source": [
        "    # Print gradients\n",
        "    print(f\"grad_W3: {grad_W3}\")\n",
        "    print(f\"grad_b3: {grad_b3}\")\n",
        "    print(f\"grad_W2: {grad_W2}\")\n",
        "    print(f\"grad_b2: {grad_b2}\")"
      ],
      "metadata": {
        "colab": {
          "base_uri": "https://localhost:8080/"
        },
        "id": "ZOVVrg4eEJNk",
        "outputId": "0af4e321-fa36-4c63-c8ab-1611dbddbe08"
      },
      "execution_count": 11,
      "outputs": [
        {
          "output_type": "stream",
          "name": "stdout",
          "text": [
            "grad_W3: [[0.06625417]]\n",
            "grad_b3: [[0.13119642]]\n",
            "grad_W2: [[0.00098387]]\n",
            "grad_b2: [[0.00983875]]\n"
          ]
        }
      ]
    },
    {
      "cell_type": "code",
      "source": [
        "    # Update weights and biases\n",
        "    W2 = W2 - alpha * grad_W2\n",
        "    b2 = b2 - alpha * grad_b2\n",
        "\n",
        "    W3 = W3 - alpha * grad_W3\n",
        "    b3 = b3 - alpha * grad_b3"
      ],
      "metadata": {
        "id": "sEp7rJlkEF1l"
      },
      "execution_count": 12,
      "outputs": []
    },
    {
      "cell_type": "code",
      "source": [
        "    # Calculate total error and store in array\n",
        "    total_error = np.sum((A3 - R) ** 2)\n",
        "    errors[epoch] = total_error"
      ],
      "metadata": {
        "id": "teEZOjuqEAq9"
      },
      "execution_count": 13,
      "outputs": []
    },
    {
      "cell_type": "code",
      "source": [
        "# Plot the graph of total errors\n",
        "plt.figure()\n",
        "plt.plot(range(1, epochs + 1), errors, '-o')\n",
        "plt.xlabel('Epochs')\n",
        "plt.ylabel('Total Error')\n",
        "plt.title('Total Error vs. Epochs')\n",
        "plt.grid(True)\n",
        "plt.show()"
      ],
      "metadata": {
        "colab": {
          "base_uri": "https://localhost:8080/",
          "height": 472
        },
        "id": "lXChuiGuD8af",
        "outputId": "d08fb24c-d173-4f9f-ef0e-0b27bd55e9ff"
      },
      "execution_count": 14,
      "outputs": [
        {
          "output_type": "display_data",
          "data": {
            "text/plain": [
              "<Figure size 640x480 with 1 Axes>"
            ],
            "image/png": "[encoded data removed]"
          },
          "metadata": {}
        }
      ]
    }
  ]
}