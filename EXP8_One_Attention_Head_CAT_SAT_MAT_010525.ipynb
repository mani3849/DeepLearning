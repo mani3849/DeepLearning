{
  "nbformat": 4,
  "nbformat_minor": 0,
  "metadata": {
    "colab": {
      "provenance": [],
      "gpuType": "T4"
    },
    "kernelspec": {
      "name": "python3",
      "display_name": "Python 3"
    },
    "language_info": {
      "name": "python"
    },
    "accelerator": "GPU"
  },
  "cells": [
    {
      "cell_type": "code",
      "execution_count": 2,
      "metadata": {
        "id": "ox6YdpkeefnL"
      },
      "outputs": [],
      "source": [
        "import tensorflow as tf\n",
        "import numpy as np"
      ]
    },
    {
      "cell_type": "code",
      "source": [
        "# Input\n",
        "x = tf.constant([\n",
        "    [0.1, 0.2, 0.3, 0.4],\n",
        "    [0.5, 0.6, 0.7, 0.8],\n",
        "    [0.9, 1.0, 1.1, 1.2]\n",
        "], dtype=tf.float32)"
      ],
      "metadata": {
        "id": "ODhtCwtmlhrc"
      },
      "execution_count": 3,
      "outputs": []
    },
    {
      "cell_type": "code",
      "source": [
        "# Projection matrices (EXACT from manual)\n",
        "W_Q = tf.constant([\n",
        "    [0.1, 0.2, 0.3],\n",
        "    [0.4, 0.5, 0.6],\n",
        "    [0.7, 0.8, 0.9],\n",
        "    [1.0, 1.1, 1.2]\n",
        "], dtype=tf.float32)\n",
        "W_K = W_Q  # Same as Q\n",
        "W_V = tf.constant([\n",
        "    [0.1, 0.2],\n",
        "    [0.3, 0.4],\n",
        "    [0.5, 0.6],\n",
        "    [0.7, 0.8]\n",
        "], dtype=tf.float32)"
      ],
      "metadata": {
        "id": "6Q_8dewBlnLS"
      },
      "execution_count": 4,
      "outputs": []
    },
    {
      "cell_type": "code",
      "source": [
        "# Manual projection to Queries, Keys & Values\n",
        "queries = tf.matmul(x, W_Q)\n",
        "print(\"Queries Matrix: \",queries)\n",
        "keys = tf.matmul(x, W_K)\n",
        "print(\"Keys Matrix:\",keys)\n",
        "values = tf.matmul(x, W_V)\n",
        "print(\"Values Matrix:\", values)"
      ],
      "metadata": {
        "colab": {
          "base_uri": "https://localhost:8080/"
        },
        "id": "Lmjoom6klqrS",
        "outputId": "95b9fba0-70d1-4978-e47a-d1883b1828e3"
      },
      "execution_count": 5,
      "outputs": [
        {
          "output_type": "stream",
          "name": "stdout",
          "text": [
            "Queries Matrix:  tf.Tensor(\n",
            "[[0.70000005 0.8000001  0.90000004]\n",
            " [1.5799999  1.8400002  2.1       ]\n",
            " [2.46       2.88       3.3000002 ]], shape=(3, 3), dtype=float32)\n",
            "Keys Matrix: tf.Tensor(\n",
            "[[0.70000005 0.8000001  0.90000004]\n",
            " [1.5799999  1.8400002  2.1       ]\n",
            " [2.46       2.88       3.3000002 ]], shape=(3, 3), dtype=float32)\n",
            "Values Matrix: tf.Tensor(\n",
            "[[0.5       0.6      ]\n",
            " [1.14      1.4000001]\n",
            " [1.7800001 2.2      ]], shape=(3, 2), dtype=float32)\n"
          ]
        }
      ]
    },
    {
      "cell_type": "code",
      "source": [
        "# Attention\n",
        "scores = tf.matmul(queries, keys, transpose_b=True)\n",
        "print(\"Attention Scores Matrix: \",scores)\n",
        "scaled = scores / tf.sqrt(3.0)\n",
        "print(\"Attention Score Matrix Scaled: \",scaled)\n",
        "weights = tf.nn.softmax(scaled, axis=-1)\n",
        "print(\"Attention Weights Matrix:\", weights)"
      ],
      "metadata": {
        "colab": {
          "base_uri": "https://localhost:8080/"
        },
        "id": "hydA39G9ltE6",
        "outputId": "4147a846-bfb7-4e8f-a735-b3c81110a386"
      },
      "execution_count": 6,
      "outputs": [
        {
          "output_type": "stream",
          "name": "stdout",
          "text": [
            "Attention Scores Matrix:  tf.Tensor(\n",
            "[[ 1.9400002  4.4680004  6.996001 ]\n",
            " [ 4.4680004 10.292     16.116001 ]\n",
            " [ 6.996001  16.116001  25.236002 ]], shape=(3, 3), dtype=float32)\n",
            "Attention Score Matrix Scaled:  tf.Tensor(\n",
            "[[ 1.1200596  2.5796013  4.039143 ]\n",
            " [ 2.5796013  5.942089   9.304578 ]\n",
            " [ 4.039143   9.304578  14.570013 ]], shape=(3, 3), dtype=float32)\n",
            "Attention Weights Matrix: tf.Tensor(\n",
            "[[4.1966919e-02 1.8062508e-01 7.7740794e-01]\n",
            " [1.1589993e-03 3.3449765e-02 9.6539128e-01]\n",
            " [2.6561418e-05 5.1404452e-03 9.9483299e-01]], shape=(3, 3), dtype=float32)\n"
          ]
        }
      ]
    },
    {
      "cell_type": "code",
      "source": [
        "# Contextualized Value Vectors for each word\n",
        "context = tf.matmul(weights, values)\n",
        "\n",
        "print(\"Context vectors for each word:\")\n",
        "print(context.numpy())"
      ],
      "metadata": {
        "colab": {
          "base_uri": "https://localhost:8080/"
        },
        "id": "DCD39EQelvmr",
        "outputId": "19008959-f16f-4e8d-e4cd-cbd810e2e4fb"
      },
      "execution_count": 7,
      "outputs": [
        {
          "output_type": "stream",
          "name": "stdout",
          "text": [
            "Context vectors for each word:\n",
            "[[1.6106822 1.9883528]\n",
            " [1.7571088 2.171386 ]\n",
            " [1.7766763 2.1958454]]\n"
          ]
        }
      ]
    }
  ]
}