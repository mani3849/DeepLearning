{
  "nbformat": 4,
  "nbformat_minor": 0,
  "metadata": {
    "colab": {
      "provenance": []
    },
    "kernelspec": {
      "name": "python3",
      "display_name": "Python 3"
    },
    "language_info": {
      "name": "python"
    }
  },
  "cells": [
    {
      "cell_type": "code",
      "execution_count": 45,
      "metadata": {
        "id": "TFkBuMhpMcx8"
      },
      "outputs": [],
      "source": [
        "import numpy as np\n",
        "\n",
        "# Define the sigmoid function and its derivative\n",
        "def sigmoid(x):\n",
        "    return 1 / (1 + np.exp(-x))\n",
        "\n",
        "def sigmoid_derivative(x):\n",
        "    return sigmoid(x) * (1 - sigmoid(x))"
      ]
    },
    {
      "cell_type": "code",
      "source": [
        "# Define the ReLU function and its derivative\n",
        "def relu(x):\n",
        "    return np.maximum(0, x)\n",
        "\n",
        "def relu_derivative(x):\n",
        "    return np.where(x > 0, 1, 0)"
      ],
      "metadata": {
        "id": "8_NlYXOZNKSh"
      },
      "execution_count": 46,
      "outputs": []
    },
    {
      "cell_type": "code",
      "source": [
        "# Initialize weights and biases\n",
        "w1, b1 = 0.5, 0\n",
        "w2, b2 = 0.5, 0\n",
        "w3, b3 = 0.5, 0"
      ],
      "metadata": {
        "id": "EYM6zFq7NH8K"
      },
      "execution_count": 47,
      "outputs": []
    },
    {
      "cell_type": "code",
      "source": [
        "# Input and true output\n",
        "x = 1\n",
        "y = 1"
      ],
      "metadata": {
        "id": "1G5c7WrBNGY5"
      },
      "execution_count": 48,
      "outputs": []
    },
    {
      "cell_type": "code",
      "source": [
        "# Sigmoid Network\n",
        "print(\"Sigmoid Network:\")"
      ],
      "metadata": {
        "colab": {
          "base_uri": "https://localhost:8080/"
        },
        "id": "rw8MrR_CNEea",
        "outputId": "96144dcc-b257-445b-a84f-71859c81cfc1"
      },
      "execution_count": 49,
      "outputs": [
        {
          "output_type": "stream",
          "name": "stdout",
          "text": [
            "Sigmoid Network:\n"
          ]
        }
      ]
    },
    {
      "cell_type": "code",
      "source": [
        "# Forward pass (Sigmoid)\n",
        "z1_sigmoid = w1 * x + b1\n",
        "a1_sigmoid = sigmoid(z1_sigmoid)\n",
        "\n",
        "z2_sigmoid = w2 * a1_sigmoid + b2\n",
        "a2_sigmoid = sigmoid(z2_sigmoid)\n",
        "\n",
        "z3_sigmoid = w3 * a2_sigmoid + b3\n",
        "y_pred_sigmoid = sigmoid(z3_sigmoid)"
      ],
      "metadata": {
        "id": "Us2muXJyNCP6"
      },
      "execution_count": 50,
      "outputs": []
    },
    {
      "cell_type": "code",
      "source": [
        "# Loss function (Mean Squared Error)\n",
        "loss_sigmoid = 0.5 * (y - y_pred_sigmoid) ** 2"
      ],
      "metadata": {
        "id": "6fnUkTBsM_cy"
      },
      "execution_count": 51,
      "outputs": []
    },
    {
      "cell_type": "code",
      "source": [
        "# Backward pass (Gradient calculation for Sigmoid)\n",
        "# Output layer\n",
        "dL_dy_pred_sigmoid = -(y - y_pred_sigmoid)\n",
        "dy_pred_dz3_sigmoid = sigmoid_derivative(z3_sigmoid)\n",
        "dL_dw3_sigmoid = dL_dy_pred_sigmoid * dy_pred_dz3_sigmoid * a2_sigmoid"
      ],
      "metadata": {
        "id": "5RLS-JsWM9bo"
      },
      "execution_count": 52,
      "outputs": []
    },
    {
      "cell_type": "code",
      "source": [
        "# Layer 2\n",
        "dL_da2_sigmoid = dL_dy_pred_sigmoid * dy_pred_dz3_sigmoid * w3\n",
        "da2_dz2_sigmoid = sigmoid_derivative(z2_sigmoid)\n",
        "dL_dw2_sigmoid = dL_da2_sigmoid * da2_dz2_sigmoid * a1_sigmoid"
      ],
      "metadata": {
        "id": "cu7o-xgoM6hL"
      },
      "execution_count": 53,
      "outputs": []
    },
    {
      "cell_type": "code",
      "source": [
        "# Layer 1\n",
        "dL_da1_sigmoid = dL_da2_sigmoid * da2_dz2_sigmoid * w2\n",
        "da1_dz1_sigmoid = sigmoid_derivative(z1_sigmoid)\n",
        "dL_dw1_sigmoid = dL_da1_sigmoid * da1_dz1_sigmoid * x"
      ],
      "metadata": {
        "id": "GS9yFpoiM4jS"
      },
      "execution_count": 54,
      "outputs": []
    },
    {
      "cell_type": "code",
      "source": [
        "# Print results for Sigmoid\n",
        "print(\"\\nForward Pass (Sigmoid):\")\n",
        "print(f\"Layer 1 Output (a1): {a1_sigmoid:.4f}\")\n",
        "print(f\"Layer 2 Output (a2): {a2_sigmoid:.4f}\")\n",
        "print(f\"Predicted Output (y_pred): {y_pred_sigmoid:.4f}\")\n",
        "print(f\"Loss: {loss_sigmoid:.4f}\")\n",
        "\n",
        "print(\"\\nBackward Pass (Gradients for Sigmoid):\")\n",
        "print(f\"Gradient w.r.t. w3: {dL_dw3_sigmoid:.4f}\")\n",
        "print(f\"Gradient w.r.t. w2: {dL_dw2_sigmoid:.4f}\")\n",
        "print(f\"Gradient w.r.t. w1: {dL_dw1_sigmoid:.4f}\")"
      ],
      "metadata": {
        "colab": {
          "base_uri": "https://localhost:8080/"
        },
        "id": "a8v1wigcM2TM",
        "outputId": "67e243d4-0bb1-4f01-92a7-eefa24b9f2d1"
      },
      "execution_count": 55,
      "outputs": [
        {
          "output_type": "stream",
          "name": "stdout",
          "text": [
            "\n",
            "Forward Pass (Sigmoid):\n",
            "Layer 1 Output (a1): 0.6225\n",
            "Layer 2 Output (a2): 0.5772\n",
            "Predicted Output (y_pred): 0.5717\n",
            "Loss: 0.0917\n",
            "\n",
            "Backward Pass (Gradients for Sigmoid):\n",
            "Gradient w.r.t. w3: -0.0605\n",
            "Gradient w.r.t. w2: -0.0080\n",
            "Gradient w.r.t. w1: -0.0015\n"
          ]
        }
      ]
    },
    {
      "cell_type": "code",
      "source": [
        "# ReLU Network\n",
        "print(\"\\nReLU Network:\")"
      ],
      "metadata": {
        "colab": {
          "base_uri": "https://localhost:8080/"
        },
        "id": "5jzfdh7KM0Aq",
        "outputId": "aaaf3f94-976c-4aac-fd13-f87147d528b6"
      },
      "execution_count": 56,
      "outputs": [
        {
          "output_type": "stream",
          "name": "stdout",
          "text": [
            "\n",
            "ReLU Network:\n"
          ]
        }
      ]
    },
    {
      "cell_type": "code",
      "source": [
        "# Forward pass (ReLU)\n",
        "z1_relu = w1 * x + b1\n",
        "a1_relu = relu(z1_relu)\n",
        "\n",
        "z2_relu = w2 * a1_relu + b2\n",
        "a2_relu = relu(z2_relu)\n",
        "\n",
        "z3_relu = w3 * a2_relu + b3\n",
        "y_pred_relu = relu(z3_relu)"
      ],
      "metadata": {
        "id": "t-H_SfX1MyOk"
      },
      "execution_count": 57,
      "outputs": []
    },
    {
      "cell_type": "code",
      "source": [
        "# Loss function (Mean Squared Error)\n",
        "loss_relu = 0.5 * (y - y_pred_relu) ** 2"
      ],
      "metadata": {
        "id": "eVLCSvomMv0T"
      },
      "execution_count": 58,
      "outputs": []
    },
    {
      "cell_type": "code",
      "source": [
        "# Backward pass (Gradient calculation for ReLU)\n",
        "# Output layer\n",
        "dL_dy_pred_relu = -(y - y_pred_relu)\n",
        "dy_pred_dz3_relu = relu_derivative(z3_relu)\n",
        "dL_dw3_relu = dL_dy_pred_relu * dy_pred_dz3_relu * a2_relu"
      ],
      "metadata": {
        "id": "ixpqnSNhMtET"
      },
      "execution_count": 59,
      "outputs": []
    },
    {
      "cell_type": "code",
      "source": [
        "# Layer 2\n",
        "dL_da2_relu = dL_dy_pred_relu * dy_pred_dz3_relu * w3\n",
        "da2_dz2_relu = relu_derivative(z2_relu)\n",
        "dL_dw2_relu = dL_da2_relu * da2_dz2_relu * a1_relu"
      ],
      "metadata": {
        "id": "xcnThpDLMrPa"
      },
      "execution_count": 60,
      "outputs": []
    },
    {
      "cell_type": "code",
      "source": [
        "# Layer 1\n",
        "dL_da1_relu = dL_da2_relu * da2_dz2_relu * w2\n",
        "da1_dz1_relu = relu_derivative(z1_relu)\n",
        "dL_dw1_relu = dL_da1_relu * da1_dz1_relu * x"
      ],
      "metadata": {
        "id": "2wx_FgxRMpSS"
      },
      "execution_count": 61,
      "outputs": []
    },
    {
      "cell_type": "code",
      "source": [
        "# Print results for ReLU\n",
        "print(\"\\nForward Pass (ReLU):\")\n",
        "print(f\"Layer 1 Output (a1): {a1_relu:.4f}\")\n",
        "print(f\"Layer 2 Output (a2): {a2_relu:.4f}\")\n",
        "print(f\"Predicted Output (y_pred): {y_pred_relu:.4f}\")\n",
        "print(f\"Loss: {loss_relu:.4f}\")\n",
        "\n",
        "print(\"\\nBackward Pass (Gradients for ReLU):\")\n",
        "print(f\"Gradient w.r.t. w3: {dL_dw3_relu:.4f}\")\n",
        "print(f\"Gradient w.r.t. w2: {dL_dw2_relu:.4f}\")\n",
        "print(f\"Gradient w.r.t. w1: {dL_dw1_relu:.4f}\")"
      ],
      "metadata": {
        "colab": {
          "base_uri": "https://localhost:8080/"
        },
        "id": "Q7x-2b6lMm_r",
        "outputId": "f07780dc-ddfb-4cea-e6b7-c174657f4107"
      },
      "execution_count": 62,
      "outputs": [
        {
          "output_type": "stream",
          "name": "stdout",
          "text": [
            "\n",
            "Forward Pass (ReLU):\n",
            "Layer 1 Output (a1): 0.5000\n",
            "Layer 2 Output (a2): 0.2500\n",
            "Predicted Output (y_pred): 0.1250\n",
            "Loss: 0.3828\n",
            "\n",
            "Backward Pass (Gradients for ReLU):\n",
            "Gradient w.r.t. w3: -0.2188\n",
            "Gradient w.r.t. w2: -0.2188\n",
            "Gradient w.r.t. w1: -0.2188\n"
          ]
        }
      ]
    },
    {
      "cell_type": "code",
      "source": [
        "# Comparison\n",
        "print(\"\\nComparison:\")\n",
        "print(\"Sigmoid Gradients:\")\n",
        "print(f\"Gradient w.r.t. w3: {dL_dw3_sigmoid:.4f}\")\n",
        "print(f\"Gradient w.r.t. w2: {dL_dw2_sigmoid:.4f}\")\n",
        "print(f\"Gradient w.r.t. w1: {dL_dw1_sigmoid:.4f}\")\n",
        "\n",
        "print(\"\\nReLU Gradients:\")\n",
        "print(f\"Gradient w.r.t. w3: {dL_dw3_relu:.4f}\")\n",
        "print(f\"Gradient w.r.t. w2: {dL_dw2_relu:.4f}\")\n",
        "print(f\"Gradient w.r.t. w1: {dL_dw1_relu:.4f}\")"
      ],
      "metadata": {
        "colab": {
          "base_uri": "https://localhost:8080/"
        },
        "id": "Q9amkw4cMkNk",
        "outputId": "ae63e000-6e25-4540-e2f4-319ad02b12ea"
      },
      "execution_count": 63,
      "outputs": [
        {
          "output_type": "stream",
          "name": "stdout",
          "text": [
            "\n",
            "Comparison:\n",
            "Sigmoid Gradients:\n",
            "Gradient w.r.t. w3: -0.0605\n",
            "Gradient w.r.t. w2: -0.0080\n",
            "Gradient w.r.t. w1: -0.0015\n",
            "\n",
            "ReLU Gradients:\n",
            "Gradient w.r.t. w3: -0.2188\n",
            "Gradient w.r.t. w2: -0.2188\n",
            "Gradient w.r.t. w1: -0.2188\n"
          ]
        }
      ]
    }
  ]
}